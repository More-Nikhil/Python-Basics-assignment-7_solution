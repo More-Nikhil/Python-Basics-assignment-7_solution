{
 "cells": [
  {
   "cell_type": "markdown",
   "id": "6cd080db-d18d-48d5-baab-cbed6d1102cf",
   "metadata": {},
   "source": [
    "1. What is the name of the feature responsible for generating Regex objects?\n",
    "\n",
    "Ans: re.compile()"
   ]
  },
  {
   "cell_type": "markdown",
   "id": "64a2f1dd-2d4d-420e-a88e-cd4abaa8d2fa",
   "metadata": {},
   "source": [
    "2. Why do raw strings often appear in Regex objects?\n",
    "\n",
    "Ans: Raw strings are used so that backslashes do not have to be escaped."
   ]
  },
  {
   "cell_type": "markdown",
   "id": "d98afe44-e485-41c9-a0d5-af235761994a",
   "metadata": {},
   "source": [
    "3. What is the return value of the search() method?\n",
    "\n",
    "ANS: The search() function searches the string for a match and returns a match object if there is a match. if there is a more than one match, it will only give first occurance as output. If no matches are found, it will return None as output."
   ]
  },
  {
   "cell_type": "markdown",
   "id": "0de305ba-1217-4610-af6d-f28325a022e5",
   "metadata": {},
   "source": [
    "4. From a Match item, how do you get the actual strings that match the pattern?\n",
    "\n",
    "Ans: By using group() method"
   ]
  },
  {
   "cell_type": "markdown",
   "id": "f2b8c1a6-aeb5-48bf-b0ae-221446d12a34",
   "metadata": {},
   "source": [
    "5. In the regex which created from the r'(\\d\\d\\d)-(\\d\\d\\d-\\d\\d\\d\\d)', what does group zero cover? Group 2? Group 1?\n",
    "\n",
    "Ans: Group 0 is the entire match, group 1 covers the first set of parentheses, and group 2 covers the second set of parentheses."
   ]
  },
  {
   "cell_type": "markdown",
   "id": "abf56232-e883-4264-908e-5da1b92de7a9",
   "metadata": {},
   "source": [
    "6. In standard expression syntax, parentheses and intervals have distinct meanings. How can you tell a regex that you want it to fit real parentheses and periods?\n",
    "\n",
    "Ans: Periods and parentheses can be escaped with a backslash: \\., \\(, and \\)"
   ]
  },
  {
   "cell_type": "markdown",
   "id": "5901eaee-183e-4aee-bd13-7a42a19fc767",
   "metadata": {},
   "source": [
    "7. The findall() method returns a string list or a list of string tuples. What causes it to return one of the two options?\n",
    "\n",
    "Ans: If the regex has no groups, a list of strings is returned. If the regex has groups, a list of tuples of strings is returned"
   ]
  },
  {
   "cell_type": "markdown",
   "id": "76e2f445-4430-434b-8524-5d1aae28c04c",
   "metadata": {},
   "source": [
    "8. In standard expressions, what does the | character mean?\n",
    "\n",
    "Ans: either or"
   ]
  },
  {
   "cell_type": "markdown",
   "id": "3bca5c56-503b-4e27-b4a3-1c6245b1eb75",
   "metadata": {},
   "source": [
    "9. In regular expressions, what does the character stand for?\n",
    "\n",
    "Ans: Zero or one occurrences"
   ]
  },
  {
   "cell_type": "markdown",
   "id": "1737adfa-4549-414a-bf77-4e1364d0b4f0",
   "metadata": {},
   "source": [
    "10.In regular expressions, what is the difference between the + and * characters?\n",
    "\n",
    "Ans: * : Zero or one occurrences\n",
    "\n",
    " + : One or more occurrences"
   ]
  },
  {
   "cell_type": "markdown",
   "id": "44c30217-94f9-4e68-8672-5c2d4114c813",
   "metadata": {},
   "source": [
    "11. What is the difference between {4} and {4,5} in regular expression?\n",
    "\n",
    "Ans: The {4} matches exactly four instances of the preceding group. The {4,5} matches between four and five instances."
   ]
  },
  {
   "cell_type": "markdown",
   "id": "cf905876-a45e-4d50-b321-bbe2ca38f8f0",
   "metadata": {},
   "source": [
    "12. What do you mean by the \\d, \\w, and \\s shorthand character classes signify in regular expressions?\n",
    "\n",
    "Ans: \n",
    "\n",
    "\\d : Returns a match where the string contains digits (numbers from 0-9)\n",
    "\n",
    " \\w : Returns a match where the string contains any word characters (characters from a to Z,digits from 0-9 and the    underscore _ character)\n",
    " \n",
    " \\s : Returns a match where the string contains a white space character"
   ]
  },
  {
   "cell_type": "markdown",
   "id": "23635085-bd6d-43cd-b905-bc3c48c8e7c0",
   "metadata": {},
   "source": [
    "13. What do means by \\D, \\W, and \\S shorthand character classes signify in regular expressions?\n",
    "\n",
    "Ans: \n",
    "\n",
    "\\d : Returns a match where the string contains digits (numbers from 0-9)\n",
    "\n",
    " \\w : Returns a match where the string contains any word characters (characters from a to Z,digits from 0-9 and the    underscore _ character)\n",
    " \n",
    " \\s : Returns a match where the string contains a white space character"
   ]
  },
  {
   "cell_type": "markdown",
   "id": "1b8da526-3ff5-4ffa-9d28-312eb57b78cf",
   "metadata": {},
   "source": [
    "14. What is the difference between .*? and .*?\n",
    "\n",
    "Ans: \n",
    "\n",
    ".* : This is greedy behaviour. It will try to match as much as possible to have the biggest match result possible\n",
    "\n",
    ".*? : This is lazy behaviour. this is the opposite of greedy behaviour. It will try to find the smallest match possible."
   ]
  },
  {
   "cell_type": "markdown",
   "id": "ab32aa5c-d615-43a1-bf5c-d45122c3e8cd",
   "metadata": {},
   "source": [
    "15. What is the syntax for matching both numbers and lowercase letters with a character class?\n",
    "\n",
    "Ans: [a-z0-9] or [0-9a-z]"
   ]
  },
  {
   "cell_type": "markdown",
   "id": "2dae55fd-69e2-4018-a280-3a35e3a87149",
   "metadata": {},
   "source": [
    "16. What is the procedure for making a normal expression in regax case insensitive?\n",
    "\n",
    "Ans: Pass re.IGNORECASE to the flags parameters"
   ]
  },
  {
   "cell_type": "markdown",
   "id": "b7066c69-09c7-4b19-b933-6fcc32eb6b86",
   "metadata": {},
   "source": [
    "17. What does the . character normally match? What does it match if re.DOTALL is passed as 2nd argument in re.compile()?\n",
    "\n",
    "Ans: The . character normally matches any character except the newline character. If re.DOTALL is passed as the second argument to re.compile(), then the dot will also match newline characters."
   ]
  },
  {
   "cell_type": "markdown",
   "id": "9f550f2a-0982-413d-b276-d140324de314",
   "metadata": {},
   "source": [
    "18. If numReg = re.compile(r'\\d+'), what will numRegex.sub('X', '11 drummers, 10 pipers, five rings, 4 hen') return?"
   ]
  },
  {
   "cell_type": "code",
   "execution_count": 3,
   "id": "180f419a-15d8-45ae-bcfb-1b27b6042e58",
   "metadata": {},
   "outputs": [
    {
     "data": {
      "text/plain": [
       "'X drummers, X pipers, five rings, X hen'"
      ]
     },
     "execution_count": 3,
     "metadata": {},
     "output_type": "execute_result"
    }
   ],
   "source": [
    "import re\n",
    "numReg = re.compile(r'\\d+')\n",
    "numReg.sub('X', '11 drummers, 10 pipers, five rings, 4 hen')"
   ]
  },
  {
   "cell_type": "markdown",
   "id": "72df8199-9aa4-4e59-acba-ebf434a508d3",
   "metadata": {},
   "source": [
    "19. What does passing re.VERBOSE as the 2nd argument to re.compile() allow to do?\n",
    "\n",
    "Ans: The re.VERBOSE argument allows to add whitespace and comments to the string passed to re.compile()."
   ]
  },
  {
   "cell_type": "markdown",
   "id": "81075364-178a-488a-9127-21fb29f153d1",
   "metadata": {},
   "source": [
    "20. How would you write a regex that match a number with comma for every three digits? It must match the given following:\n",
    "'42'\n",
    "'1,234'\n",
    "'6,368,745'\n",
    "but not the following:\n",
    "'12,34,567' (which has only two digits between the commas)\n",
    "'1234' (which lacks commas)\n"
   ]
  },
  {
   "cell_type": "code",
   "execution_count": 4,
   "id": "898ef390-67ac-4897-bed5-3545b10ba2d3",
   "metadata": {},
   "outputs": [
    {
     "name": "stdout",
     "output_type": "stream",
     "text": [
      "output: 42 is <re.Match object; span=(0, 2), match='42'>\n",
      "output: 1,234 is <re.Match object; span=(0, 5), match='1,234'>\n",
      "output: 6,368,745 is <re.Match object; span=(0, 9), match='6,368,745'>\n",
      "output: 12,34,567 is None\n",
      "output: 1234 is None\n"
     ]
    }
   ],
   "source": [
    "import re\n",
    "pattern = r'^\\d{1,3}(,\\d{3})*$'\n",
    "matches= re.compile(pattern)\n",
    "elements = ['42','1,234', '6,368,745','12,34,567','1234']\n",
    "for i in elements:\n",
    "    print(f'output: {i} is {matches.search(i)}')"
   ]
  },
  {
   "cell_type": "markdown",
   "id": "2cefc936-2a20-44d0-b0a7-35313d9ff528",
   "metadata": {},
   "source": [
    "21. How would you write a regex that matches the full name of someone whose last name is Watanabe? You can assume that the first name that comes before it will always be one word that begins with a capital letter. The regex must match the following:\n",
    "'Haruto Watanabe'\n",
    "'Alice Watanabe'\n",
    "'RoboCop Watanabe'\n",
    "but not the following:\n",
    "'haruto Watanabe' (where the first name is not capitalized)\n",
    "'Mr. Watanabe' (where the preceding word has a nonletter character)\n",
    "'Watanabe' (which has no first name)\n",
    "'Haruto watanabe' (where Watanabe is not capitalized)\n"
   ]
  },
  {
   "cell_type": "code",
   "execution_count": 5,
   "id": "764096e3-dbef-4380-988a-904df6a21dff",
   "metadata": {},
   "outputs": [
    {
     "name": "stdout",
     "output_type": "stream",
     "text": [
      "Output:  Haruto Watanabe : ['Haruto Watanabe']\n",
      "Output:  Alice Watanabe : ['Alice Watanabe']\n",
      "Output:  RoboCop Watanabe : ['Cop Watanabe']\n",
      "Output:  haruto Watanabe : []\n",
      "Output:  Mr. Watanabe : []\n",
      "Output:  Watanabe : []\n",
      "Output:  Haruto watanabe : []\n"
     ]
    }
   ],
   "source": [
    "import re\n",
    "pattern = r'[A-Z]{1}[a-z]+\\sWatanabe'\n",
    "matches = re.compile(pattern)\n",
    "list_names = ['Haruto Watanabe','Alice Watanabe','RoboCop Watanabe','haruto Watanabe','Mr. Watanabe','Watanabe','Haruto watanabe']\n",
    "for name in list_names :\n",
    "    print('Output: ',name,':',matches.findall(name))"
   ]
  },
  {
   "cell_type": "markdown",
   "id": "8463429f-2024-4b50-9193-951404cd0ee9",
   "metadata": {},
   "source": [
    "22. How would you write a regex that matches a sentence where the first word is either Alice, Bob, or Carol; the second word is either eats, pets, or throws; the third word is apples, cats, or baseballs; and the sentence ends with a period? This regex should be case-insensitive. It must match the following:\n",
    "'Alice eats apples.'\n",
    "'Bob pets cats.'\n",
    "'Carol throws baseballs.'\n",
    "'Alice throws Apples.'\n",
    "'BOB EATS CATS.'\n",
    "but not the following:\n",
    "'RoboCop eats apples.'\n",
    "'ALICE THROWS FOOTBALLS.'\n",
    "'Carol eats 7 cats.'\n"
   ]
  },
  {
   "cell_type": "code",
   "execution_count": null,
   "id": "eef4146d-2e27-47fc-9b46-84221d4c55e6",
   "metadata": {},
   "outputs": [],
   "source": []
  }
 ],
 "metadata": {
  "kernelspec": {
   "display_name": "Python 3 (ipykernel)",
   "language": "python",
   "name": "python3"
  },
  "language_info": {
   "codemirror_mode": {
    "name": "ipython",
    "version": 3
   },
   "file_extension": ".py",
   "mimetype": "text/x-python",
   "name": "python",
   "nbconvert_exporter": "python",
   "pygments_lexer": "ipython3",
   "version": "3.10.6"
  }
 },
 "nbformat": 4,
 "nbformat_minor": 5
}
